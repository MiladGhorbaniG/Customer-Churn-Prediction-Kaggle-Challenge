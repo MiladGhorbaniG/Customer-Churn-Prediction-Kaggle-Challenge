{
  "nbformat": 4,
  "nbformat_minor": 0,
  "metadata": {
    "colab": {
      "provenance": []
    },
    "kernelspec": {
      "name": "python3",
      "display_name": "Python 3"
    },
    "language_info": {
      "name": "python"
    }
  },
  "cells": [
    {
      "cell_type": "markdown",
      "source": [
        "# Step 1: Import Required Libraries"
      ],
      "metadata": {
        "id": "sz8AgmjfHCum"
      }
    },
    {
      "cell_type": "code",
      "source": [
        "import pandas as pd\n",
        "from sklearn.model_selection import train_test_split\n",
        "from sklearn.preprocessing import StandardScaler\n",
        "from sklearn.linear_model import LogisticRegression\n",
        "from sklearn.metrics import accuracy_score, confusion_matrix, roc_curve, roc_auc_score\n",
        "import matplotlib.pyplot as plt\n",
        "import unittest\n",
        "from sklearn.preprocessing import LabelEncoder\n",
        "import seaborn as sns"
      ],
      "metadata": {
        "id": "8To6wbMbHBsL"
      },
      "execution_count": 7,
      "outputs": []
    },
    {
      "cell_type": "markdown",
      "source": [
        "# Step 2: Data Loading"
      ],
      "metadata": {
        "id": "bb-rOZ0NHET4"
      }
    },
    {
      "cell_type": "code",
      "source": [
        "# You can upload the dataset file to your Colab environment or provide a link to it\n",
        "# For example, if you have the dataset file named 'customer_churn.csv' uploaded:\n",
        "data = pd.read_csv('/content/WA_Fn-UseC_-Telco-Customer-Churn.csv')"
      ],
      "metadata": {
        "id": "Xt31pzmVHGnI"
      },
      "execution_count": 2,
      "outputs": []
    },
    {
      "cell_type": "markdown",
      "source": [
        "# Step 3: Data Preprocessing\n"
      ],
      "metadata": {
        "id": "wX83YrqsHIzW"
      }
    },
    {
      "cell_type": "code",
      "source": [
        "target_col = 'Churn'\n",
        "relevant_columns = ['tenure', 'InternetService', 'OnlineSecurity', 'TechSupport', 'Contract', 'MonthlyCharges', 'TotalCharges']\n",
        "X = data[relevant_columns]\n",
        "y = data[target_col]\n",
        "\n",
        "# Use LabelEncoder for categorical columns\n",
        "label_encoder = LabelEncoder()\n",
        "X['InternetService'] = label_encoder.fit_transform(X['InternetService'])\n",
        "X['OnlineSecurity'] = label_encoder.fit_transform(X['OnlineSecurity'])\n",
        "X['TechSupport'] = label_encoder.fit_transform(X['TechSupport'])\n",
        "X['Contract'] = label_encoder.fit_transform(X['Contract'])\n",
        "X['TotalCharges'] = label_encoder.fit_transform(X['TotalCharges'])\n",
        "\n",
        "\n",
        "\n",
        "# Split the data into training and testing sets\n",
        "X_train, X_test, y_train, y_test = train_test_split(X, y, test_size=0.2, random_state=42)\n",
        "\n",
        "\n",
        "\n"
      ],
      "metadata": {
        "colab": {
          "base_uri": "https://localhost:8080/"
        },
        "id": "XAdWPniVHLQA",
        "outputId": "0b93c68a-886f-454e-c241-cc3ca6c79bca"
      },
      "execution_count": 3,
      "outputs": [
        {
          "output_type": "stream",
          "name": "stderr",
          "text": [
            "<ipython-input-3-dd853504a04d>:8: SettingWithCopyWarning: \n",
            "A value is trying to be set on a copy of a slice from a DataFrame.\n",
            "Try using .loc[row_indexer,col_indexer] = value instead\n",
            "\n",
            "See the caveats in the documentation: https://pandas.pydata.org/pandas-docs/stable/user_guide/indexing.html#returning-a-view-versus-a-copy\n",
            "  X['InternetService'] = label_encoder.fit_transform(X['InternetService'])\n",
            "<ipython-input-3-dd853504a04d>:9: SettingWithCopyWarning: \n",
            "A value is trying to be set on a copy of a slice from a DataFrame.\n",
            "Try using .loc[row_indexer,col_indexer] = value instead\n",
            "\n",
            "See the caveats in the documentation: https://pandas.pydata.org/pandas-docs/stable/user_guide/indexing.html#returning-a-view-versus-a-copy\n",
            "  X['OnlineSecurity'] = label_encoder.fit_transform(X['OnlineSecurity'])\n",
            "<ipython-input-3-dd853504a04d>:10: SettingWithCopyWarning: \n",
            "A value is trying to be set on a copy of a slice from a DataFrame.\n",
            "Try using .loc[row_indexer,col_indexer] = value instead\n",
            "\n",
            "See the caveats in the documentation: https://pandas.pydata.org/pandas-docs/stable/user_guide/indexing.html#returning-a-view-versus-a-copy\n",
            "  X['TechSupport'] = label_encoder.fit_transform(X['TechSupport'])\n",
            "<ipython-input-3-dd853504a04d>:11: SettingWithCopyWarning: \n",
            "A value is trying to be set on a copy of a slice from a DataFrame.\n",
            "Try using .loc[row_indexer,col_indexer] = value instead\n",
            "\n",
            "See the caveats in the documentation: https://pandas.pydata.org/pandas-docs/stable/user_guide/indexing.html#returning-a-view-versus-a-copy\n",
            "  X['Contract'] = label_encoder.fit_transform(X['Contract'])\n",
            "<ipython-input-3-dd853504a04d>:12: SettingWithCopyWarning: \n",
            "A value is trying to be set on a copy of a slice from a DataFrame.\n",
            "Try using .loc[row_indexer,col_indexer] = value instead\n",
            "\n",
            "See the caveats in the documentation: https://pandas.pydata.org/pandas-docs/stable/user_guide/indexing.html#returning-a-view-versus-a-copy\n",
            "  X['TotalCharges'] = label_encoder.fit_transform(X['TotalCharges'])\n"
          ]
        }
      ]
    },
    {
      "cell_type": "markdown",
      "source": [
        "# Step 4: Data Scaling"
      ],
      "metadata": {
        "id": "GCK9t1AIHMF-"
      }
    },
    {
      "cell_type": "code",
      "source": [
        "# Handle missing values (assuming you want to fill missing values with the mean)\n",
        "X_train.fillna(X_train.mean(), inplace=True)\n",
        "X_test.fillna(X_test.mean(), inplace=True)\n",
        "\n",
        "\n",
        "scaler = StandardScaler()\n",
        "X_train_scaled = scaler.fit_transform(X_train)\n",
        "X_test_scaled = scaler.transform(X_test)"
      ],
      "metadata": {
        "id": "sozr1eoSHOqA"
      },
      "execution_count": 4,
      "outputs": []
    },
    {
      "cell_type": "markdown",
      "source": [
        "# Step 5: Model Training"
      ],
      "metadata": {
        "id": "Q1M0keCGHP6w"
      }
    },
    {
      "cell_type": "code",
      "source": [
        "from sklearn.model_selection import RandomizedSearchCV\n",
        "import numpy as np\n",
        "\n",
        "# Define hyperparameters and their possible values\n",
        "param_dist = {\n",
        "    'C': np.logspace(-3, 3, 7),  # Range of values for regularization strength\n",
        "    'penalty': ['l1', 'l2'],     # Regularization types\n",
        "    'solver': ['liblinear'],     # Specify solver for logistic regression\n",
        "}\n",
        "\n",
        "# Create Randomized Search with cross-validation\n",
        "random_search = RandomizedSearchCV(\n",
        "    LogisticRegression(),\n",
        "    param_distributions=param_dist,\n",
        "    n_iter=20,                  # Number of random combinations to try\n",
        "    cv=5,                       # Number of cross-validation folds\n",
        "    scoring='accuracy',\n",
        "    random_state=42             # For reproducibility\n",
        ")\n",
        "\n",
        "\n",
        "\n",
        "\n",
        "\n",
        "# Encode 'Churn' labels consistently\n",
        "y_train_encoded = label_encoder.fit_transform(y_train)\n",
        "y_test_encoded = label_encoder.fit_transform(y_test)\n",
        "\n",
        "# Create Randomized Search with cross-validation\n",
        "random_search = RandomizedSearchCV(\n",
        "    LogisticRegression(),\n",
        "    param_distributions=param_dist,\n",
        "    n_iter=20,\n",
        "    cv=5,\n",
        "    scoring='accuracy',\n",
        "    random_state=42\n",
        ")\n",
        "\n",
        "# Fit the Randomized Search to your data\n",
        "random_search.fit(X_train_scaled, y_train_encoded)\n",
        "\n",
        "# Get the best hyperparameters\n",
        "best_params = random_search.best_params_\n",
        "print(f'Best Hyperparameters: {best_params}')\n",
        "\n",
        "# Use the best model for predictions\n",
        "best_model = random_search.best_estimator_\n",
        "y_pred_encoded = best_model.predict(X_test_scaled)\n",
        "\n",
        "# Calculate accuracy\n",
        "accuracy = accuracy_score(y_test_encoded, y_pred_encoded)\n",
        "print(f'Accuracy: {accuracy:.2f}')\n",
        "\n",
        "# Calculate confusion matrix\n",
        "conf_matrix = confusion_matrix(y_test_encoded, y_pred_encoded)\n",
        "\n",
        "# Plot confusion matrix as a heatmap\n",
        "plt.figure(figsize=(8, 6))\n",
        "sns.heatmap(conf_matrix, annot=True, fmt='d', cmap='Blues', cbar=False)\n",
        "plt.xlabel('Predicted')\n",
        "plt.ylabel('Actual')\n",
        "plt.title('Confusion Matrix')\n",
        "plt.show()\n",
        "\n",
        "\n",
        "\n",
        "# Calculate ROC curve and ROC AUC score\n",
        "y_prob = best_model.predict_proba(X_test_scaled)[:, 1]\n",
        "fpr, tpr, thresholds = roc_curve(y_test_encoded, y_prob)\n",
        "roc_auc = roc_auc_score(y_test_encoded, y_prob)\n",
        "\n",
        "# Plot ROC curve\n",
        "plt.figure()\n",
        "plt.plot(fpr, tpr, color='darkorange', lw=2, label=f'ROC curve (area = {roc_auc:.2f})')\n",
        "plt.plot([0, 1], [0, 1], color='navy', lw=2, linestyle='--')\n",
        "plt.xlim([0.0, 1.0])\n",
        "plt.ylim([0.0, 1.05])\n",
        "plt.xlabel('False Positive Rate')\n",
        "plt.ylabel('True Positive Rate')\n",
        "plt.title('Receiver Operating Characteristic (ROC)')\n",
        "plt.legend(loc='lower right')\n",
        "plt.show()\n",
        "\n"
      ],
      "metadata": {
        "colab": {
          "base_uri": "https://localhost:8080/",
          "height": 1000
        },
        "id": "Dqimq0bbTGA_",
        "outputId": "f7b199e9-dcf0-4df7-ab85-9c6aeed1ebd2"
      },
      "execution_count": 16,
      "outputs": [
        {
          "output_type": "stream",
          "name": "stderr",
          "text": [
            "/usr/local/lib/python3.10/dist-packages/sklearn/model_selection/_search.py:305: UserWarning: The total space of parameters 14 is smaller than n_iter=20. Running 14 iterations. For exhaustive searches, use GridSearchCV.\n",
            "  warnings.warn(\n"
          ]
        },
        {
          "output_type": "stream",
          "name": "stdout",
          "text": [
            "Best Hyperparameters: {'solver': 'liblinear', 'penalty': 'l1', 'C': 0.01}\n",
            "Accuracy: 0.80\n"
          ]
        },
        {
          "output_type": "display_data",
          "data": {
            "text/plain": [
              "<Figure size 800x600 with 1 Axes>"
            ],
            "image/png": "[encoded data removed]"
          },
          "metadata": {}
        },
        {
          "output_type": "display_data",
          "data": {
            "text/plain": [
              "<Figure size 640x480 with 1 Axes>"
            ],
            "image/png": "[encoded data removed]"
          },
          "metadata": {}
        }
      ]
    },
    {
      "cell_type": "markdown",
      "source": [
        "# Step 6 Unit Test"
      ],
      "metadata": {
        "id": "ZC0hScYt7fzL"
      }
    },
    {
      "cell_type": "code",
      "source": [
        "# Create a file named /content/test_logistic_regression.py in colab and copy the content of this cell on it then run the next cell\n",
        "\n",
        "import unittest\n",
        "import pandas as pd\n",
        "import numpy as np\n",
        "from sklearn.model_selection import train_test_split, RandomizedSearchCV\n",
        "from sklearn.preprocessing import StandardScaler, LabelEncoder\n",
        "from sklearn.linear_model import LogisticRegression\n",
        "from sklearn.metrics import accuracy_score, confusion_matrix, roc_curve, roc_auc_score\n",
        "import joblib\n",
        "import random\n",
        "import matplotlib.pyplot as plt\n",
        "import seaborn as sns\n",
        "\n",
        "class TestLogisticRegression(unittest.TestCase):\n",
        "\n",
        "    def setUp(self):\n",
        "        # Load the dataset\n",
        "        self.data = pd.read_csv('/content/WA_Fn-UseC_-Telco-Customer-Churn.csv')\n",
        "\n",
        "        # Define target and relevant columns\n",
        "        self.target_col = 'Churn'\n",
        "        all_columns = self.data.columns.tolist()\n",
        "        all_columns.remove(self.target_col)  # Exclude target column\n",
        "        self.X = self.data[all_columns]\n",
        "        self.y = self.data[self.target_col]\n",
        "\n",
        "        # Encode categorical columns\n",
        "        label_encoder = LabelEncoder()\n",
        "        for col in self.X.select_dtypes(include=['object']).columns:\n",
        "            self.X[col] = label_encoder.fit_transform(self.X[col])\n",
        "\n",
        "        # Convert 'No' to 0 and 'Yes' to 1 in y\n",
        "        self.y = self.y.map({'No': 0, 'Yes': 1})\n",
        "\n",
        "        # Split the data into training and testing sets\n",
        "        self.X_train, self.X_test, self.y_train, self.y_test = train_test_split(\n",
        "            self.X, self.y, test_size=0.2, random_state=42)\n",
        "\n",
        "        # Data Scaling\n",
        "        scaler = StandardScaler()\n",
        "        self.X_train_scaled = scaler.fit_transform(self.X_train)\n",
        "        self.X_test_scaled = scaler.transform(self.X_test)\n",
        "\n",
        "        # Define hyperparameters and their possible values\n",
        "        self.param_dist = {\n",
        "            'C': np.logspace(-6, 6, 14),  # Range of values for regularization strength\n",
        "            'penalty': ['l1', 'l2'],     # Regularization types\n",
        "            'solver': ['liblinear'],     # Specify solver for logistic regression\n",
        "        }\n",
        "\n",
        "    def test_model_accuracy(self):\n",
        "        best_accuracy = 0\n",
        "\n",
        "        # Number of iterations for randomized search\n",
        "        num_iterations = 1000\n",
        "\n",
        "\n",
        "        for i in range(num_iterations):\n",
        "            # Define the number of features to select in each iteration\n",
        "            num_features_to_select = random.randint(3,8)\n",
        "\n",
        "            # Randomly select a subset of features\n",
        "            selected_features = np.random.choice(\n",
        "                self.X_train_scaled.shape[1], num_features_to_select, replace=False)\n",
        "            X_train_selected = self.X_train_scaled[:, selected_features]\n",
        "            X_test_selected = self.X_test_scaled[:, selected_features]\n",
        "\n",
        "            # Create Randomized Search with cross-validation\n",
        "            random_search = RandomizedSearchCV(\n",
        "                LogisticRegression(),\n",
        "                param_distributions=self.param_dist,\n",
        "                n_iter=20,                  # Number of random combinations to try\n",
        "                cv=5,                       # Number of cross-validation folds\n",
        "                scoring='accuracy',\n",
        "                random_state=i             # Vary the random state for different iterations\n",
        "            )\n",
        "\n",
        "            # Fit the Randomized Search to your data\n",
        "            random_search.fit(X_train_selected, self.y_train)\n",
        "\n",
        "            # Use the best model for predictions\n",
        "            best_model_iter = random_search.best_estimator_\n",
        "            y_pred = best_model_iter.predict(X_test_selected)\n",
        "\n",
        "            # Calculate accuracy\n",
        "            accuracy = accuracy_score(self.y_test, y_pred)\n",
        "\n",
        "            # Check if the current model has higher accuracy than the best so far\n",
        "            if accuracy > best_accuracy:\n",
        "                best_accuracy = accuracy\n",
        "\n",
        "        # Assert that the achieved accuracy is greater than or equal to a specified threshold\n",
        "        expected_accuracy_threshold = 0.8  # Adjust this threshold as needed\n",
        "        self.assertGreaterEqual(best_accuracy, expected_accuracy_threshold)\n",
        "\n",
        "        # Print the best accuracy\n",
        "        print(f'Best Accuracy: {best_accuracy:.4f}')\n",
        "\n",
        "        # Calculate ROC and AUC\n",
        "        y_pred_proba = best_model_iter.predict_proba(X_test_selected)[:, 1]\n",
        "        fpr, tpr, thresholds = roc_curve(self.y_test, y_pred_proba)\n",
        "        auc = roc_auc_score(self.y_test, y_pred_proba)\n",
        "\n",
        "        # Plot ROC curve\n",
        "        plt.figure(figsize=(8, 6))\n",
        "        plt.plot(fpr, tpr, color='darkorange', lw=2, label=f'ROC curve (AUC = {auc:.2f})')\n",
        "        plt.plot([0, 1], [0, 1], color='navy', lw=2, linestyle='--')\n",
        "        plt.xlim([0.0, 1.0])\n",
        "        plt.ylim([0.0, 1.05])\n",
        "        plt.xlabel('False Positive Rate')\n",
        "        plt.ylabel('True Positive Rate')\n",
        "        plt.title('Receiver Operating Characteristic')\n",
        "        plt.legend(loc='lower right')\n",
        "        plt.savefig('roc_curve.png')  # Save ROC curve figure\n",
        "\n",
        "        # Calculate confusion matrix\n",
        "        conf_matrix = confusion_matrix(self.y_test, y_pred)\n",
        "\n",
        "        # Plot confusion matrix as a heatmap\n",
        "        plt.figure(figsize=(8, 6))\n",
        "        sns.heatmap(conf_matrix, annot=True, fmt='d', cmap='Blues', cbar=False)\n",
        "        plt.xlabel('Predicted')\n",
        "        plt.ylabel('Actual')\n",
        "        plt.title('Confusion Matrix')\n",
        "        plt.savefig('confusion_matrix.png')  # Save confusion matrix figure\n",
        "\n",
        "if __name__ == '__main__':\n",
        "    unittest.main()\n"
      ],
      "metadata": {
        "id": "QhRcBrxZUxfg"
      },
      "execution_count": null,
      "outputs": []
    },
    {
      "cell_type": "code",
      "source": [
        "!python -m unittest test_logistic_regression"
      ],
      "metadata": {
        "colab": {
          "base_uri": "https://localhost:8080/"
        },
        "id": "OFhTzNsgVYCW",
        "outputId": "96a13cbb-5943-46b0-9268-b94d4e018ff0"
      },
      "execution_count": 40,
      "outputs": [
        {
          "output_type": "stream",
          "name": "stdout",
          "text": [
            "/content/test_logistic_regression.py:29: SettingWithCopyWarning: \n",
            "A value is trying to be set on a copy of a slice from a DataFrame.\n",
            "Try using .loc[row_indexer,col_indexer] = value instead\n",
            "\n",
            "See the caveats in the documentation: https://pandas.pydata.org/pandas-docs/stable/user_guide/indexing.html#returning-a-view-versus-a-copy\n",
            "  self.X[col] = label_encoder.fit_transform(self.X[col])\n",
            "/content/test_logistic_regression.py:29: SettingWithCopyWarning: \n",
            "A value is trying to be set on a copy of a slice from a DataFrame.\n",
            "Try using .loc[row_indexer,col_indexer] = value instead\n",
            "\n",
            "See the caveats in the documentation: https://pandas.pydata.org/pandas-docs/stable/user_guide/indexing.html#returning-a-view-versus-a-copy\n",
            "  self.X[col] = label_encoder.fit_transform(self.X[col])\n",
            "/content/test_logistic_regression.py:29: SettingWithCopyWarning: \n",
            "A value is trying to be set on a copy of a slice from a DataFrame.\n",
            "Try using .loc[row_indexer,col_indexer] = value instead\n",
            "\n",
            "See the caveats in the documentation: https://pandas.pydata.org/pandas-docs/stable/user_guide/indexing.html#returning-a-view-versus-a-copy\n",
            "  self.X[col] = label_encoder.fit_transform(self.X[col])\n",
            "/content/test_logistic_regression.py:29: SettingWithCopyWarning: \n",
            "A value is trying to be set on a copy of a slice from a DataFrame.\n",
            "Try using .loc[row_indexer,col_indexer] = value instead\n",
            "\n",
            "See the caveats in the documentation: https://pandas.pydata.org/pandas-docs/stable/user_guide/indexing.html#returning-a-view-versus-a-copy\n",
            "  self.X[col] = label_encoder.fit_transform(self.X[col])\n",
            "/content/test_logistic_regression.py:29: SettingWithCopyWarning: \n",
            "A value is trying to be set on a copy of a slice from a DataFrame.\n",
            "Try using .loc[row_indexer,col_indexer] = value instead\n",
            "\n",
            "See the caveats in the documentation: https://pandas.pydata.org/pandas-docs/stable/user_guide/indexing.html#returning-a-view-versus-a-copy\n",
            "  self.X[col] = label_encoder.fit_transform(self.X[col])\n",
            "/content/test_logistic_regression.py:29: SettingWithCopyWarning: \n",
            "A value is trying to be set on a copy of a slice from a DataFrame.\n",
            "Try using .loc[row_indexer,col_indexer] = value instead\n",
            "\n",
            "See the caveats in the documentation: https://pandas.pydata.org/pandas-docs/stable/user_guide/indexing.html#returning-a-view-versus-a-copy\n",
            "  self.X[col] = label_encoder.fit_transform(self.X[col])\n",
            "/content/test_logistic_regression.py:29: SettingWithCopyWarning: \n",
            "A value is trying to be set on a copy of a slice from a DataFrame.\n",
            "Try using .loc[row_indexer,col_indexer] = value instead\n",
            "\n",
            "See the caveats in the documentation: https://pandas.pydata.org/pandas-docs/stable/user_guide/indexing.html#returning-a-view-versus-a-copy\n",
            "  self.X[col] = label_encoder.fit_transform(self.X[col])\n",
            "/content/test_logistic_regression.py:29: SettingWithCopyWarning: \n",
            "A value is trying to be set on a copy of a slice from a DataFrame.\n",
            "Try using .loc[row_indexer,col_indexer] = value instead\n",
            "\n",
            "See the caveats in the documentation: https://pandas.pydata.org/pandas-docs/stable/user_guide/indexing.html#returning-a-view-versus-a-copy\n",
            "  self.X[col] = label_encoder.fit_transform(self.X[col])\n",
            "/content/test_logistic_regression.py:29: SettingWithCopyWarning: \n",
            "A value is trying to be set on a copy of a slice from a DataFrame.\n",
            "Try using .loc[row_indexer,col_indexer] = value instead\n",
            "\n",
            "See the caveats in the documentation: https://pandas.pydata.org/pandas-docs/stable/user_guide/indexing.html#returning-a-view-versus-a-copy\n",
            "  self.X[col] = label_encoder.fit_transform(self.X[col])\n",
            "/content/test_logistic_regression.py:29: SettingWithCopyWarning: \n",
            "A value is trying to be set on a copy of a slice from a DataFrame.\n",
            "Try using .loc[row_indexer,col_indexer] = value instead\n",
            "\n",
            "See the caveats in the documentation: https://pandas.pydata.org/pandas-docs/stable/user_guide/indexing.html#returning-a-view-versus-a-copy\n",
            "  self.X[col] = label_encoder.fit_transform(self.X[col])\n",
            "/content/test_logistic_regression.py:29: SettingWithCopyWarning: \n",
            "A value is trying to be set on a copy of a slice from a DataFrame.\n",
            "Try using .loc[row_indexer,col_indexer] = value instead\n",
            "\n",
            "See the caveats in the documentation: https://pandas.pydata.org/pandas-docs/stable/user_guide/indexing.html#returning-a-view-versus-a-copy\n",
            "  self.X[col] = label_encoder.fit_transform(self.X[col])\n",
            "/content/test_logistic_regression.py:29: SettingWithCopyWarning: \n",
            "A value is trying to be set on a copy of a slice from a DataFrame.\n",
            "Try using .loc[row_indexer,col_indexer] = value instead\n",
            "\n",
            "See the caveats in the documentation: https://pandas.pydata.org/pandas-docs/stable/user_guide/indexing.html#returning-a-view-versus-a-copy\n",
            "  self.X[col] = label_encoder.fit_transform(self.X[col])\n",
            "/content/test_logistic_regression.py:29: SettingWithCopyWarning: \n",
            "A value is trying to be set on a copy of a slice from a DataFrame.\n",
            "Try using .loc[row_indexer,col_indexer] = value instead\n",
            "\n",
            "See the caveats in the documentation: https://pandas.pydata.org/pandas-docs/stable/user_guide/indexing.html#returning-a-view-versus-a-copy\n",
            "  self.X[col] = label_encoder.fit_transform(self.X[col])\n",
            "/content/test_logistic_regression.py:29: SettingWithCopyWarning: \n",
            "A value is trying to be set on a copy of a slice from a DataFrame.\n",
            "Try using .loc[row_indexer,col_indexer] = value instead\n",
            "\n",
            "See the caveats in the documentation: https://pandas.pydata.org/pandas-docs/stable/user_guide/indexing.html#returning-a-view-versus-a-copy\n",
            "  self.X[col] = label_encoder.fit_transform(self.X[col])\n",
            "/content/test_logistic_regression.py:29: SettingWithCopyWarning: \n",
            "A value is trying to be set on a copy of a slice from a DataFrame.\n",
            "Try using .loc[row_indexer,col_indexer] = value instead\n",
            "\n",
            "See the caveats in the documentation: https://pandas.pydata.org/pandas-docs/stable/user_guide/indexing.html#returning-a-view-versus-a-copy\n",
            "  self.X[col] = label_encoder.fit_transform(self.X[col])\n",
            "/content/test_logistic_regression.py:29: SettingWithCopyWarning: \n",
            "A value is trying to be set on a copy of a slice from a DataFrame.\n",
            "Try using .loc[row_indexer,col_indexer] = value instead\n",
            "\n",
            "See the caveats in the documentation: https://pandas.pydata.org/pandas-docs/stable/user_guide/indexing.html#returning-a-view-versus-a-copy\n",
            "  self.X[col] = label_encoder.fit_transform(self.X[col])\n",
            "/content/test_logistic_regression.py:29: SettingWithCopyWarning: \n",
            "A value is trying to be set on a copy of a slice from a DataFrame.\n",
            "Try using .loc[row_indexer,col_indexer] = value instead\n",
            "\n",
            "See the caveats in the documentation: https://pandas.pydata.org/pandas-docs/stable/user_guide/indexing.html#returning-a-view-versus-a-copy\n",
            "  self.X[col] = label_encoder.fit_transform(self.X[col])\n",
            "Best Accuracy: 0.8112\n",
            ".\n",
            "----------------------------------------------------------------------\n",
            "Ran 1 test in 632.993s\n",
            "\n",
            "OK\n"
          ]
        }
      ]
    }
  ]
}